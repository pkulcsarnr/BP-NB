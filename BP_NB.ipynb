{
 "cells": [
  {
   "cell_type": "code",
   "execution_count": null,
   "metadata": {
    "colab_type": "text",
    "id": "GR5YlMZFZWM2"
   },
   "outputs": [],
   "source": [
    "# Getting data"
   ]
  },
  {
   "cell_type": "markdown",
   "metadata": {
    "colab_type": "text",
    "id": "DDiePZRrZdvJ"
   },
   "source": [
    "**Install required packages**"
   ]
  },
  {
   "cell_type": "code",
   "execution_count": 2,
   "metadata": {
    "colab": {
     "base_uri": "https://localhost:8080/",
     "height": 35
    },
    "colab_type": "code",
    "id": "-g-lrETKWWHz",
    "outputId": "c4e3e38d-85b7-4738-9a9b-57d4cad3899a"
   },
   "outputs": [
    {
     "name": "stderr",
     "output_type": "stream",
     "text": [
      "twisted 18.7.0 requires PyHamcrest>=1.9.0, which is not installed.\n",
      "You are using pip version 10.0.1, however version 18.1 is available.\n",
      "You should consider upgrading via the 'python -m pip install --upgrade pip' command.\n",
      "twisted 18.7.0 requires PyHamcrest>=1.9.0, which is not installed.\n",
      "You are using pip version 10.0.1, however version 18.1 is available.\n",
      "You should consider upgrading via the 'python -m pip install --upgrade pip' command.\n"
     ]
    },
    {
     "name": "stdout",
     "output_type": "stream",
     "text": [
      "Done\n"
     ]
    },
    {
     "name": "stderr",
     "output_type": "stream",
     "text": [
      "  Could not find a version that satisfies the requirement os (from versions: )\n",
      "No matching distribution found for os\n",
      "You are using pip version 10.0.1, however version 18.1 is available.\n",
      "You should consider upgrading via the 'python -m pip install --upgrade pip' command.\n"
     ]
    }
   ],
   "source": [
    "!pip install -q webhoseio\n",
    "!pip install -q sklearn\n",
    "!pip install -q os\n",
    "print(\"Done\")"
   ]
  },
  {
   "cell_type": "markdown",
   "metadata": {
    "colab_type": "text",
    "id": "8xkLUWNzIAYI"
   },
   "source": [
    "**Import required packages**"
   ]
  },
  {
   "cell_type": "code",
   "execution_count": 2,
   "metadata": {
    "colab": {
     "base_uri": "https://localhost:8080/",
     "height": 35
    },
    "colab_type": "code",
    "id": "FapJyEuJH07k",
    "outputId": "c3e0ef23-792b-40c1-8af3-35f372290c25"
   },
   "outputs": [
    {
     "name": "stdout",
     "output_type": "stream",
     "text": [
      "Done\n",
      "2018-11-03 10:40\n"
     ]
    }
   ],
   "source": [
    "import re\n",
    "import webhoseio\n",
    "import json\n",
    "import time\n",
    "import numpy as np\n",
    "import datetime\n",
    "from os import listdir\n",
    "import nltk\n",
    "from nltk.stem import PorterStemmer\n",
    "\n",
    "print(\"Done\")\n",
    "print(datetime.datetime.now().strftime(\"%Y-%m-%d %H:%M\"))"
   ]
  },
  {
   "cell_type": "markdown",
   "metadata": {
    "colab_type": "text",
    "id": "_4mhr0WcIDLT"
   },
   "source": [
    "**Define global variables**"
   ]
  },
  {
   "cell_type": "code",
   "execution_count": 340,
   "metadata": {
    "colab": {
     "base_uri": "https://localhost:8080/",
     "height": 35
    },
    "colab_type": "code",
    "id": "nJ5IFpjWExBH",
    "outputId": "53742641-3bc6-4e1e-cc96-a43c1eaf3395"
   },
   "outputs": [
    {
     "name": "stdout",
     "output_type": "stream",
     "text": [
      "fucntion preprocessText done\n",
      "Done\n",
      "2018-11-04 19:52\n"
     ]
    }
   ],
   "source": [
    "articles = []\n",
    "types = list()\n",
    "words = list()\n",
    "#NLTK´S stopwords + mine\n",
    "stopWords = [\"i\", \"me\", \"my\", \"myself\", \"we\", \"our\", \"ours\", \"ourselves\", \"you\", \"your\", \"yours\",\"ers\", \"yourself\", \"yourselves\", \"he\",\"isnt\",\"cant\" \"him\", \"his\", \"himself\", \"she\", \"her\", \"hers\", \"herself\", \"it\", \"its\", \"itself\", \"they\", \"them\", \"their\", \"theirs\", \"themselves\", \"what\", \"which\", \"who\", \"whom\", \"this\", \"that\", \"these\", \"those\", \"am\", \"is\", \"are\", \"was\", \"wasnt\", \"were\", \"be\", \"been\", \"being\", \"have\", \"havent\", \"has\", \"had\", \"having\", \"do\", \"does\", \"doesnt\", \"did\", \"doing\", \"a\", \"an\", \"the\", \"and\", \"but\", \"if\", \"or\", \"because\", \"as\", \"until\", \"while\", \"of\", \"at\", \"by\", \"for\", \"with\", \"about\", \"against\", \"between\", \"into\", \"through\", \"during\", \"before\", \"after\", \"above\", \"below\", \"to\", \"from\", \"up\", \"down\", \"in\", \"out\", \"on\", \"off\", \"over\", \"under\", \"again\", \"further\", \"then\", \"once\", \"here\", \"there\", \"when\", \"where\", \"why\", \"how\", \"all\", \"any\", \"both\", \"each\", \"few\", \"more\", \"most\", \"other\", \"some\", \"such\", \"no\", \"nor\", \"not\", \"only\", \"own\", \"same\", \"so\", \"than\", \"too\", \"very\", \"s\", \"t\", \"can\", \"will\", \"just\", \"don\", \"should\", \"now\"]\n",
    "\n",
    "trainingPercentage = 80\n",
    "amountOfArticlesLoad = 1000\n",
    "\n",
    "removeUnfrequent = 1\n",
    "maxUnFrequent = 1 # if set to 1 => remove all words with number of usage = 1\n",
    "removeFrequent = 0\n",
    "usePorterStemmer = 1\n",
    "ps = PorterStemmer()\n",
    "\n",
    "#Declare which classes include in the alogrithm\n",
    "#0 - Finance\n",
    "#1 - Sport\n",
    "#2 - Technology\n",
    "#3 - Entertainment\n",
    "includeClasses = [0,1,2,3]\n",
    "\n",
    "class Regs: \n",
    "    specialChars = '' \n",
    "    digits = '' \n",
    "    singleChars = ''\n",
    "    multipleWhiteSpaces = ''\n",
    "    stopWords = list()\n",
    "regexes = Regs()\n",
    "regexes.specialChars = re.compile('[^\\w\\s]')\n",
    "regexes.digits = re.compile('\\d')\n",
    "regexes.singleChars = re.compile('\\s.\\s')\n",
    "regexes.multipleWhiteSpaces = re.compile('[ ]{2,}')\n",
    "for sw in stopWords:\n",
    "    exp = '\\\\b' + sw + '+\\W'\n",
    "    regexes.stopWords.append(re.compile(exp))\n",
    "    \n",
    "def preprocessText(text):\n",
    "    text = text.lower()\n",
    "    #new lines\n",
    "    text = text.replace('\\n', ' ')\n",
    "    text = text.replace('_', ' ')\n",
    "    #special characters\n",
    "    text = re.sub(regexes.specialChars, ' ', text)\n",
    "    #digits\n",
    "    text = re.sub(regexes.digits, '', text)\n",
    "    #stopwords\n",
    "    for sw in regexes.stopWords:\n",
    "        text = re.sub(sw , '', text)\n",
    "    #single characters (ex donald j trump => donald trump)\n",
    "    text = re.sub(regexes.singleChars, ' ', text)\n",
    "    #multiple white spaces\n",
    "    text = re.sub(regexes.multipleWhiteSpaces, ' ', text)\n",
    "    if usePorterStemmer == 1:\n",
    "        splitted = text.split()\n",
    "        for index, word in enumerate(splitted, start=0):\n",
    "            splitted[index] = ps.stem(word)\n",
    "        return splitted\n",
    "    return(text.split())\n",
    "print(\"fucntion preprocessText done\")\n",
    "\n",
    "print(\"Done\")\n",
    "print(datetime.datetime.now().strftime(\"%Y-%m-%d %H:%M\"))"
   ]
  },
  {
   "cell_type": "code",
   "execution_count": 336,
   "metadata": {},
   "outputs": [
    {
     "name": "stdout",
     "output_type": "stream",
     "text": [
      "Preprocessing of 320.0 finance articles starting\n",
      "Preprocessing finance data finished in  6.83372163772583\n",
      "Preprocessing of 320.0 sports articles starting\n",
      "Preprocessing sports data finished in  5.066815376281738\n",
      "Preprocessing of 320.0 technology articles starting\n",
      "Preprocessing technology data finished in  7.21941614151001\n",
      "Preprocessing of 320.0 entertainment articles starting\n",
      "Preprocessing entertainment data finished in  6.354069948196411\n",
      "Creating dictionary finished in  0.062489986419677734\n",
      "There are 20462 words\n",
      "Creating matrix of containing words\n",
      "There are 9904 words\n",
      "Creating matrix finished in  3.3995652198791504\n",
      "Done\n",
      "2018-11-04 16:03\n"
     ]
    }
   ],
   "source": [
    "#Get data for finance\n",
    "if 0 in includeClasses:\n",
    "    financeArticles = listdir(\"DATA/Finance\")\n",
    "    if len(financeArticles) > 0 :\n",
    "        print(\"Preprocessing of \" + str(amountOfArticlesLoad*trainingPercentage / 100) + \" finance articles starting\")\n",
    "        start = time.time()\n",
    "        for index, article in enumerate(financeArticles, start=0):\n",
    "            if index < (amountOfArticlesLoad*trainingPercentage / 100) :\n",
    "                with open(\"DATA/Finance/\" + article, encoding=\"utf8\") as json_data:\n",
    "                    text = json.load(json_data)[\"text\"]\n",
    "                    textSplitted = preprocessText(text)\n",
    "                    articles.append(textSplitted)\n",
    "                    types.append(\"0\")    \n",
    "\n",
    "        end = time.time()\n",
    "        print(\"Preprocessing finance data finished in \",end - start)\n",
    "#Get data for sports data       \n",
    "if 1 in includeClasses:\n",
    "    sportArticles = listdir('DATA/Sports')\n",
    "    if len(sportArticles) > 0 :\n",
    "        print(\"Preprocessing of \" + str(amountOfArticlesLoad*trainingPercentage / 100) + \" sports articles starting\")\n",
    "        start = time.time()\n",
    "        for index, article in enumerate(sportArticles, start=0):\n",
    "            if index < (amountOfArticlesLoad*trainingPercentage / 100) :\n",
    "                with open(\"DATA/Sports/\" + article, encoding=\"utf8\") as json_data:\n",
    "                    text = json.load(json_data)[\"text\"]\n",
    "                    textSplitted = preprocessText(text)\n",
    "                    articles.append(textSplitted)\n",
    "                    types.append(\"1\")     \n",
    "        end = time.time()\n",
    "        print(\"Preprocessing sports data finished in \",end - start)\n",
    "#Get data for technology data       \n",
    "if 2 in includeClasses:\n",
    "    techArticles = listdir('DATA/Technology')\n",
    "    if len(techArticles) > 0 :\n",
    "        print(\"Preprocessing of \" + str(amountOfArticlesLoad*trainingPercentage / 100) + \" technology articles starting\")\n",
    "        start = time.time()\n",
    "        for index, article in enumerate(techArticles, start=0):\n",
    "            if index < (amountOfArticlesLoad*trainingPercentage / 100) :\n",
    "                with open(\"DATA/Technology/\" + article, encoding=\"utf8\") as json_data:\n",
    "                    text = json.load(json_data)[\"text\"]\n",
    "                    textSplitted = preprocessText(text)\n",
    "                    articles.append(textSplitted)\n",
    "                    types.append(\"2\")     \n",
    "        end = time.time()\n",
    "        print(\"Preprocessing technology data finished in \",end - start)\n",
    "#Get data for entertainment data       \n",
    "if 3 in includeClasses:\n",
    "    entertainmentArticles = listdir('DATA/Entertainment')\n",
    "    if len(entertainmentArticles) > 0 :\n",
    "        print(\"Preprocessing of \" + str(amountOfArticlesLoad*trainingPercentage / 100) + \" entertainment articles starting\")\n",
    "        start = time.time()\n",
    "        for index, article in enumerate(entertainmentArticles, start=0):\n",
    "            if index < (amountOfArticlesLoad*trainingPercentage / 100) :\n",
    "                with open(\"DATA/Entertainment/\" + article, encoding=\"utf8\") as json_data:\n",
    "                    text = json.load(json_data)[\"text\"]\n",
    "                    textSplitted = preprocessText(text)\n",
    "                    articles.append(textSplitted)\n",
    "                    types.append(\"3\")     \n",
    "        end = time.time()\n",
    "        print(\"Preprocessing entertainment data finished in \",end - start)\n",
    "        \n",
    "        \n",
    "start = time.time()\n",
    "#create one array fromm all articles\n",
    "words = [item for sublist in articles for item in sublist]\n",
    "#remove duplicate values from words list\n",
    "words = list(set(words))\n",
    "words = sorted(words)\n",
    "wordsDictionary = dict((v, i) for i, v in enumerate(words))\n",
    "end = time.time()\n",
    "print(\"Creating dictionary finished in \",end - start)\n",
    "print(\"There are \" + str(len(words)) + \" words\")\n",
    "\n",
    "print(\"Creating matrix of containing words\")\n",
    "start = time.time()\n",
    "articleWords = np.zeros((len(articles), len(words) + 1))\n",
    "for index, article in enumerate(articles, start=0):\n",
    "    articleWords[index, 0 ] = types[index] \n",
    "    for j, word in enumerate(article, start=0):\n",
    "        if word != '':\n",
    "            articleWords[index, wordsDictionary[word] + 1] = 1   \n",
    "\n",
    "if removeUnfrequent == 1:    \n",
    "    #Remove words with occurance = 1\n",
    "    removableIndexes = []\n",
    "    for word in wordsDictionary:\n",
    "        if(sum(articleWords[:,wordsDictionary[word]]) > maxUnFrequent):\n",
    "            removableIndexes.append(wordsDictionary[word])\n",
    "    ind = np.array(removableIndexes)\n",
    "    words = np.array(words)\n",
    "    words = np.array(words[ind])\n",
    "    articleWords = articleWords[:,np.insert(ind + 1, 0,0, axis=0)]\n",
    "    \n",
    "if removeFrequent > 0:\n",
    "    usage = np.zeros(len(words)+1)\n",
    "    for i in range(1, len(words)+1):\n",
    "        usage[i] = sum(articleWords[:,i])\n",
    "    for i in range(0, removeFrequent):\n",
    "        words = np.delete(words,usage.tolist().index(max(usage)),0)\n",
    "        articleWords = np.delete(articleWords, usage.tolist().index(max(usage)),1)\n",
    "        usage = np.delete(usage,usage.tolist().index(max(usage)),0)\n",
    "        \n",
    "print(\"There are \" + str(len(words)) + \" words\")\n",
    "\n",
    "end = time.time()\n",
    "print(\"Creating matrix finished in \",end - start)\n",
    "    \n",
    "print(\"Done\")\n",
    "\n",
    "print(datetime.datetime.now().strftime(\"%Y-%m-%d %H:%M\"))"
   ]
  },
  {
   "cell_type": "code",
   "execution_count": 337,
   "metadata": {
    "colab": {
     "base_uri": "https://localhost:8080/",
     "height": 35
    },
    "colab_type": "code",
    "id": "VY3MUxmaI6UW",
    "outputId": "1f53d431-6d67-455a-80fa-9ac5f189fe7f"
   },
   "outputs": [
    {
     "name": "stdout",
     "output_type": "stream",
     "text": [
      "Starting creation of matrix\n",
      "Creating the matrix containg the probabilities finished in  0.6237795352935791\n",
      "Done\n",
      "2018-11-04 16:03\n"
     ]
    }
   ],
   "source": [
    "print(\"Starting creation of matrix\")\n",
    "start = time.time()\n",
    "X = articleWords\n",
    "#calculate the phi values\n",
    "numberOfClasses = len(includeClasses)\n",
    "Y = np.zeros((numberOfClasses, X.shape[1]))\n",
    "#number of rows (number of samples in training set)\n",
    "m = X.shape[0]\n",
    "\n",
    "#number of words\n",
    "n = X.shape[1] - 1\n",
    "\n",
    "sumClasses = np.zeros((numberOfClasses))\n",
    "#number of rows clasified to first / second group\n",
    "for c, index in enumerate(includeClasses, start = 0):\n",
    "    sumClasses[index] = float(len(X[X[:,0] == c,0]))\n",
    "    \n",
    "sumY1 = float(np.sum(X[:,0]))\n",
    "sumY0 = float(m - np.sum(X[:,0]))\n",
    "\n",
    "#Laplace => alfa = 1\n",
    "alfa = 1\n",
    "\n",
    "#calcualting Phi_{y=0} and Phi_{y=1}\n",
    "for j in range(0, numberOfClasses):\n",
    "    Y[j,0] = (sumClasses[j] + alfa) / float(m + numberOfClasses * alfa)\n",
    "#Y[0,0] = (sumY0 + alfa) / float(m + numberOfClasses * alfa)\n",
    "#Y[1,0] = (sumY1 + alfa) / float(m + numberOfClasses * alfa)\n",
    "\n",
    "for j in range(1, X.shape[1]):\n",
    "    #calcualting Phi_{j|y=0} and Phi_{j|y=1}\n",
    "    for k in range(0, numberOfClasses):\n",
    "        Y[k,j] = (np.sum(X[X[:,0]==includeClasses[k],j]) + alfa) / (sumClasses[k] + numberOfClasses * alfa)\n",
    "    #Y[0,j] = (np.sum(X[X[:,0]==1,j]) + 1) / (sumY0 + 2)\n",
    "    #Y[1,j] = (np.sum(X[X[:,0]==0,j]) + 1) / (sumY1 + 2)\n",
    "      \n",
    "end = time.time()\n",
    "print(\"Creating the matrix containg the probabilities finished in \",end - start)\n",
    "print(\"Done\")\n",
    "\n",
    "print(datetime.datetime.now().strftime(\"%Y-%m-%d %H:%M\"))"
   ]
  },
  {
   "cell_type": "code",
   "execution_count": 338,
   "metadata": {
    "colab": {
     "base_uri": "https://localhost:8080/",
     "height": 90
    },
    "colab_type": "code",
    "id": "qprIT_vzI_QI",
    "outputId": "35fc749c-3fd0-43ed-b964-cb3117488717"
   },
   "outputs": [
    {
     "name": "stdout",
     "output_type": "stream",
     "text": [
      "Startin the test on finance data\n",
      "Finance testing done in  30.84271001815796\n",
      "Number of succesfully clasified texts :  54 , in percentage:  67.5 %\n",
      "Startin the test on sports data\n",
      "Sports testing done in  26.525007724761963\n",
      "Number of succesfully clasified texts :  70 , in percentage:  87.5 %\n",
      "Startin the test on technology data\n",
      "Technology testing done in  35.04915165901184\n",
      "Number of succesfully clasified texts :  50 , in percentage:  62.5 %\n",
      "Startin the test on entertainment data\n",
      "Technology testing done in  28.157384395599365\n",
      "Number of succesfully clasified texts :  38 , in percentage:  47.5 %\n",
      "Combined success:  66.25 %\n"
     ]
    }
   ],
   "source": [
    "nClasses = len(includeClasses)\n",
    "success = 0\n",
    "if 0 in includeClasses:\n",
    "    print(\"Startin the test on finance data\")\n",
    "    successFinance = 0\n",
    "    start = time.time()\n",
    "    for index, article in enumerate(financeArticles, start=0):\n",
    "        if index >= (amountOfArticlesLoad*trainingPercentage / 100 ) and index < amountOfArticlesLoad:\n",
    "            with open(\"DATA/Finance/\" + article, encoding=\"utf8\") as json_data:\n",
    "                #print(index)\n",
    "                testtext = json.load(json_data)[\"text\"]\n",
    "                testarticle = preprocessText(testtext)\n",
    "                testArticleWords = np.zeros((1, len(words)))\n",
    "                for k, word in enumerate(testarticle, start=0):\n",
    "                        if word in words:\n",
    "                            testArticleWords[0, np.array(words).tolist().index(word)] = 1\n",
    "\n",
    "                P = np.zeros(nClasses)\n",
    "                for j in range(0, nClasses):\n",
    "                    P[j] = np.log(Y[j,0]) + ((np.log(np.array(Y[j,1:]*testArticleWords)[testArticleWords == 1]))).sum() + ((np.log(np.array((1 - Y[j,1:])*(testArticleWords - 1)*-1)[testArticleWords == 0]))).sum()\n",
    "\n",
    "                phiz = 1 / (sum(np.exp(P-P[0])))\n",
    "\n",
    "                if(phiz > 0.5):\n",
    "                    successFinance += 1\n",
    "    end = time.time()\n",
    "    success += successFinance\n",
    "    print(\"Finance testing done in \", end - start)\n",
    "    print(\"Number of succesfully clasified texts : \", successFinance, \", in percentage: \", successFinance / (amountOfArticlesLoad*(100 - trainingPercentage) / 100) * 100, \"%\")\n",
    "\n",
    "if 1 in  includeClasses:\n",
    "    print(\"Startin the test on sports data\")   \n",
    "    successSport = 0         \n",
    "    start = time.time()    \n",
    "    for index, article in enumerate(sportArticles, start=0):\n",
    "        if index >= (amountOfArticlesLoad*trainingPercentage / 100 ) and index < amountOfArticlesLoad:\n",
    "            with open(\"DATA/Sports/\" + article, encoding=\"utf8\") as json_data:\n",
    "                #print(index)\n",
    "                testtext = json.load(json_data)[\"text\"]\n",
    "                testarticle = preprocessText(testtext)\n",
    "                testArticleWords = np.zeros((1, len(words)))\n",
    "                for k, word in enumerate(testarticle, start=0):\n",
    "                        if word in words:\n",
    "                            testArticleWords[0, np.array(words).tolist().index(word)] = 1\n",
    "\n",
    "                P = np.zeros(nClasses)\n",
    "                for j in range(0, nClasses):\n",
    "                    P[j] = np.log(Y[j,0]) + ((np.log(np.array(Y[j,1:]*testArticleWords)[testArticleWords == 1]))).sum() + ((np.log(np.array((1 - Y[j,1:])*(testArticleWords - 1)*-1)[testArticleWords == 0]))).sum()\n",
    "\n",
    "                phiz = 1 / (sum(np.exp(P-P[1])))\n",
    "\n",
    "                if(phiz > 0.5):\n",
    "                    successSport +=  1\n",
    "    end = time.time()\n",
    "    success += successSport\n",
    "    print(\"Sports testing done in \", end - start)\n",
    "    print(\"Number of succesfully clasified texts : \", successSport, \", in percentage: \", successSport / (amountOfArticlesLoad*(100 - trainingPercentage) / 100) * 100, \"%\")\n",
    "\n",
    "if 2 in includeClasses:\n",
    "    print(\"Startin the test on technology data\")   \n",
    "    successTechnology = 0         \n",
    "    start = time.time()    \n",
    "    for index, article in enumerate(sportArticles, start=0):\n",
    "        if index >= (amountOfArticlesLoad*trainingPercentage / 100 ) and index < amountOfArticlesLoad:\n",
    "            with open(\"DATA/Technology/\" + article, encoding=\"utf8\") as json_data:\n",
    "                #print(index)\n",
    "                testtext = json.load(json_data)[\"text\"]\n",
    "                testarticle = preprocessText(testtext)\n",
    "                testArticleWords = np.zeros((1, len(words)))\n",
    "                for k, word in enumerate(testarticle, start=0):\n",
    "                        if word in words:\n",
    "                            testArticleWords[0, np.array(words).tolist().index(word)] = 1\n",
    "\n",
    "                P = np.zeros(nClasses)\n",
    "                for j in range(0, nClasses):\n",
    "                    P[j] = np.log(Y[j,0]) + ((np.log(np.array(Y[j,1:]*testArticleWords)[testArticleWords == 1]))).sum() + ((np.log(np.array((1 - Y[j,1:])*(testArticleWords - 1)*-1)[testArticleWords == 0]))).sum()\n",
    "\n",
    "                phiz = 1 / (sum(np.exp(P-P[2])))\n",
    "\n",
    "                if(phiz > 0.5):\n",
    "                    successTechnology +=  1\n",
    "    end = time.time()\n",
    "    success += successTechnology\n",
    "    print(\"Technology testing done in \", end - start)\n",
    "    print(\"Number of succesfully clasified texts : \", successTechnology, \", in percentage: \", successTechnology / (amountOfArticlesLoad*(100 - trainingPercentage) / 100) * 100, \"%\")\n",
    "\n",
    "if 3 in includeClasses:\n",
    "    print(\"Startin the test on entertainment data\")   \n",
    "    successEntertainment = 0         \n",
    "    start = time.time()    \n",
    "    for index, article in enumerate(sportArticles, start=0):\n",
    "        if index >= (amountOfArticlesLoad*trainingPercentage / 100 ) and index < amountOfArticlesLoad:\n",
    "            with open(\"DATA/Entertainment/\" + article, encoding=\"utf8\") as json_data:\n",
    "                #print(index)\n",
    "                testtext = json.load(json_data)[\"text\"]\n",
    "                testarticle = preprocessText(testtext)\n",
    "                testArticleWords = np.zeros((1, len(words)))\n",
    "                for k, word in enumerate(testarticle, start=0):\n",
    "                        if word in words:\n",
    "                            testArticleWords[0, np.array(words).tolist().index(word)] = 1\n",
    "\n",
    "                P = np.zeros(nClasses)\n",
    "                for j in range(0, nClasses):\n",
    "                    P[j] = np.log(Y[j,0]) + ((np.log(np.array(Y[j,1:]*testArticleWords)[testArticleWords == 1]))).sum() + ((np.log(np.array((1 - Y[j,1:])*(testArticleWords - 1)*-1)[testArticleWords == 0]))).sum()\n",
    "\n",
    "                phiz = 1 / (sum(np.exp(P-P[3])))\n",
    "\n",
    "                if(phiz > 0.5):\n",
    "                    successEntertainment +=  1\n",
    "    end = time.time()\n",
    "    success += successEntertainment\n",
    "    print(\"Technology testing done in \", end - start)\n",
    "    print(\"Number of succesfully clasified texts : \", successEntertainment, \", in percentage: \", successEntertainment / (amountOfArticlesLoad*(100 - trainingPercentage) / 100) * 100, \"%\")\n",
    "\n",
    "\n",
    "print(\"Combined success: \", success / (amountOfArticlesLoad*(100 - trainingPercentage) / 100 * nClasses) * 100, \"%\")"
   ]
  },
  {
   "cell_type": "code",
   "execution_count": 43,
   "metadata": {
    "colab": {
     "base_uri": "https://localhost:8080/",
     "height": 347
    },
    "colab_type": "code",
    "id": "KbEu4gCogEoa",
    "outputId": "4aebf9d7-a159-4645-99e4-b61ddeff0184"
   },
   "outputs": [
    {
     "data": {
      "image/png": "[encoded data removed]",
      "text/plain": [
       "<Figure size 432x288 with 1 Axes>"
      ]
     },
     "metadata": {
      "needs_background": "light"
     },
     "output_type": "display_data"
    }
   ],
   "source": [
    "import matplotlib.pyplot as plt\n",
    "import pandas as pd\n",
    "\n",
    "from collections import Counter \n",
    "\n",
    "unique, counts = np.unique(Y[:,1:], return_counts=True)\n",
    "\n",
    "plt.plot(unique, counts, '--.', markersize=10)\n",
    "\n",
    "plt.xlabel('Pravdepodobnosť')\n",
    "plt.ylabel('Počet')\n",
    "plt.title('Počet pre pravdepodobnosti pri trénovacej množine 100-100')\n",
    "plt.show()\n",
    "\n",
    "#plt.savefig('myfig')\n",
    "\n",
    "\n",
    "#plt.hist(Y[0,1:], bins=[0,0.0001, 0.01, 0.02, 0.03, 0.04, 0.05, 0.1, 0.2, 0.5])\n",
    "\n",
    "#plt.show()"
   ]
  },
  {
   "cell_type": "markdown",
   "metadata": {
    "colab_type": "text",
    "id": "DU2GcaOGuOcG"
   },
   "source": [
    "**SKLEARN - reproduce our algorithm**"
   ]
  },
  {
   "cell_type": "code",
   "execution_count": 310,
   "metadata": {
    "colab": {
     "base_uri": "https://localhost:8080/",
     "height": 35
    },
    "colab_type": "code",
    "id": "pyUNYlwdupxx",
    "outputId": "bccc3850-c9f6-4112-9781-3c468324d8bf"
   },
   "outputs": [
    {
     "name": "stdout",
     "output_type": "stream",
     "text": [
      "Startin the test on finance data\n",
      "Finance testing done in  0.8019845485687256\n",
      "Number of succesfully clasified texts :  5 , in percentage:  50.0 %\n",
      "Sport testing done in  0.40010738372802734\n",
      "Number of succesfully clasified texts :  10 , in percentage:  100.0 %\n",
      "Sport testing done in  0.8257567882537842\n",
      "Number of succesfully clasified texts :  4 , in percentage:  40.0 %\n",
      "Sport testing done in  0.31331467628479004\n",
      "Number of succesfully clasified texts :  3 , in percentage:  30.0 %\n",
      "Combined success:  55.00000000000001 %\n"
     ]
    }
   ],
   "source": [
    "print(\"Startin the test on finance data\")\n",
    "XX = articleWords[:,1:]\n",
    "YY = articleWords[:,0]\n",
    "from sklearn.naive_bayes import BernoulliNB\n",
    "clf = BernoulliNB()\n",
    "clf.fit(XX, YY)\n",
    "success = 0\n",
    "if 0 in includeClasses:\n",
    "    start = time.time()\n",
    "    successFinance = 0\n",
    "    for index, article in enumerate(financeArticles, start=0):\n",
    "        if index >= (amountOfArticlesLoad*trainingPercentage / 100 ) and index < amountOfArticlesLoad:\n",
    "            with open(\"DATA/Finance/\" + article, encoding=\"utf8\") as json_data:\n",
    "                #print(index)\n",
    "                testtext = json.load(json_data)[\"text\"]\n",
    "                testarticle = preprocessText(testtext)                 \n",
    "                testArticleWords = np.zeros((1, len(words)))\n",
    "                for k, word in enumerate(testarticle, start=0):\n",
    "                    if word != '' :\n",
    "                        if word in words:\n",
    "                            testArticleWords[0, words.index(word)] = 1\n",
    "\n",
    "                prediction = clf.predict(testArticleWords)\n",
    "\n",
    "                if(prediction == 0 ):\n",
    "                    successFinance += 1\n",
    "\n",
    "    end = time.time()\n",
    "    success += successFinance\n",
    "    print(\"Finance testing done in \", end - start)\n",
    "    print(\"Number of succesfully clasified texts : \", successFinance, \", in percentage: \", successFinance / (amountOfArticlesLoad*(100 - trainingPercentage) / 100) * 100, \"%\")\n",
    "\n",
    "if 1 in includeClasses:\n",
    "    start = time.time()               \n",
    "    successSport = 0\n",
    "    for index, article in enumerate(financeArticles, start=0):\n",
    "        if index >= (amountOfArticlesLoad*trainingPercentage / 100 ) and index < amountOfArticlesLoad:\n",
    "            with open(\"DATA/Sports/\" + article, encoding=\"utf8\") as json_data:\n",
    "                #print(index)\n",
    "                testtext = json.load(json_data)[\"text\"]\n",
    "                testarticle = preprocessText(testtext)\n",
    "                testArticleWords = np.zeros((1, len(words)))\n",
    "                for k, word in enumerate(testarticle, start=0):\n",
    "                    if word != '' :\n",
    "                        if word in words:\n",
    "                            testArticleWords[0, words.index(word)] = 1\n",
    "\n",
    "                if(clf.predict(testArticleWords) == 1):\n",
    "                    successSport += 1\n",
    "\n",
    "    end = time.time()\n",
    "    success += successSport\n",
    "    print(\"Sport testing done in \", end - start)\n",
    "    print(\"Number of succesfully clasified texts : \", successSport, \", in percentage: \", successSport / (amountOfArticlesLoad*(100 - trainingPercentage) / 100) * 100, \"%\")\n",
    "\n",
    "if 2 in includeClasses:\n",
    "    start = time.time()                \n",
    "    successTechnology = 0\n",
    "    for index, article in enumerate(financeArticles, start=0):\n",
    "        if index >= (amountOfArticlesLoad*trainingPercentage / 100 ) and index < amountOfArticlesLoad:\n",
    "            with open(\"DATA/Technology/\" + article, encoding=\"utf8\") as json_data:\n",
    "                #print(index)\n",
    "                testtext = json.load(json_data)[\"text\"]\n",
    "                testarticle = preprocessText(testtext)\n",
    "                testArticleWords = np.zeros((1, len(words)))\n",
    "                for k, word in enumerate(testarticle, start=0):\n",
    "                    if word != '' :\n",
    "                        if word in words:\n",
    "                            testArticleWords[0, words.index(word)] = 1\n",
    "\n",
    "                if(clf.predict(testArticleWords) == 2):\n",
    "                    successTechnology += 1\n",
    "\n",
    "    end = time.time()\n",
    "    success += successTechnology\n",
    "    print(\"Sport testing done in \", end - start)\n",
    "    print(\"Number of succesfully clasified texts : \", successTechnology, \", in percentage: \", successTechnology / (amountOfArticlesLoad*(100 - trainingPercentage) / 100) * 100, \"%\")\n",
    "\n",
    "\n",
    "    \n",
    "if 3 in includeClasses:\n",
    "    start = time.time()                \n",
    "    successEntertainment = 0\n",
    "    for index, article in enumerate(financeArticles, start=0):\n",
    "        if index >= (amountOfArticlesLoad*trainingPercentage / 100 ) and index < amountOfArticlesLoad:\n",
    "            with open(\"DATA/Entertainment/\" + article, encoding=\"utf8\") as json_data:\n",
    "                #print(index)\n",
    "                testtext = json.load(json_data)[\"text\"]\n",
    "                testarticle = preprocessText(testtext)\n",
    "                testArticleWords = np.zeros((1, len(words)))\n",
    "                for k, word in enumerate(testarticle, start=0):\n",
    "                    if word != '' :\n",
    "                        if word in words:\n",
    "                            testArticleWords[0, words.index(word)] = 1\n",
    "\n",
    "                if(clf.predict(testArticleWords) == 3):\n",
    "                    successEntertainment += 1\n",
    "\n",
    "    end = time.time()\n",
    "    success += successEntertainment\n",
    "    print(\"Sport testing done in \", end - start)\n",
    "    print(\"Number of succesfully clasified texts : \", successEntertainment, \", in percentage: \", successEntertainment / (amountOfArticlesLoad*(100 - trainingPercentage) / 100) * 100, \"%\")\n",
    "\n",
    "\n",
    "print(\"Combined success: \", success / (amountOfArticlesLoad*(100 - trainingPercentage) / 100 * nClasses) * 100, \"%\")"
   ]
  },
  {
   "cell_type": "code",
   "execution_count": 161,
   "metadata": {},
   "outputs": [
    {
     "name": "stdout",
     "output_type": "stream",
     "text": [
      "[    0   446  7906 10316]\n",
      "['a' 'alsohelp' 'newbie' 'sails']\n"
     ]
    }
   ],
   "source": [
    "removableIndexes = []\n",
    "for word in wordsDictionary:\n",
    "    if(sum(articleWords[:,wordsDictionary[word]]) > 128):\n",
    "        removableIndexes.append(wordsDictionary[word])\n",
    "\n",
    "ind = np.array(removableIndexes)\n",
    "print(ind)\n",
    "words = np.array(words)\n",
    "print(np.array(words[ind]))"
   ]
  },
  {
   "cell_type": "code",
   "execution_count": 224,
   "metadata": {},
   "outputs": [
    {
     "name": "stdout",
     "output_type": "stream",
     "text": [
      "[6, 5, 5, 1, 2, 3, 4]\n",
      "[5, 5, 1, 2, 3, 4]\n",
      "[5, 1, 2, 3, 4]\n",
      "[1, 2, 3, 4]\n",
      "[1, 2, 3]\n",
      "[1, 2]\n"
     ]
    }
   ],
   "source": [
    "gggg = [6, 5, 5 ,1 , 2, 3, 4]\n",
    "print(gggg)\n",
    "gggg = gggg[:gggg.index(max(gggg))] + gggg[gggg.index(max(gggg))+1:]\n",
    "print(gggg)\n",
    "gggg = gggg[:gggg.index(max(gggg))] + gggg[gggg.index(max(gggg))+1:]\n",
    "print(gggg)\n",
    "gggg = gggg[:gggg.index(max(gggg))] + gggg[gggg.index(max(gggg))+1:]\n",
    "print(gggg)\n",
    "gggg = gggg[:gggg.index(max(gggg))] + gggg[gggg.index(max(gggg))+1:]\n",
    "print(gggg)\n",
    "gggg = gggg[:gggg.index(max(gggg))] + gggg[gggg.index(max(gggg))+1:]\n",
    "print(gggg)"
   ]
  },
  {
   "cell_type": "code",
   "execution_count": 259,
   "metadata": {},
   "outputs": [
    {
     "name": "stdout",
     "output_type": "stream",
     "text": [
      "13294\n",
      "13295\n",
      "52.0\n",
      "13295\n",
      "[0. 1. 1. ... 1. 1. 1.]\n"
     ]
    }
   ],
   "source": [
    "print(len(words))\n",
    "print(articleWords.shape[1])\n",
    "print(sum(articleWords[:,555]))\n",
    "print(len(usage))\n",
    "print(usage)"
   ]
  },
  {
   "cell_type": "code",
   "execution_count": 258,
   "metadata": {},
   "outputs": [],
   "source": [
    "usage = np.zeros(len(words)+1)\n",
    "for i in range(1, len(words)+1):\n",
    "    usage[i] = sum(articleWords[:,i])"
   ]
  },
  {
   "cell_type": "code",
   "execution_count": null,
   "metadata": {},
   "outputs": [],
   "source": []
  }
 ],
 "metadata": {
  "accelerator": "GPU",
  "colab": {
   "collapsed_sections": [],
   "name": "BP-NB.ipynb",
   "provenance": [],
   "toc_visible": true,
   "version": "0.3.2"
  },
  "kernelspec": {
   "display_name": "Python 3",
   "language": "python",
   "name": "python3"
  },
  "language_info": {
   "codemirror_mode": {
    "name": "ipython",
    "version": 3
   },
   "file_extension": ".py",
   "mimetype": "text/x-python",
   "name": "python",
   "nbconvert_exporter": "python",
   "pygments_lexer": "ipython3",
   "version": "3.7.1"
  }
 },
 "nbformat": 4,
 "nbformat_minor": 1
}
